{
  "nbformat": 4,
  "nbformat_minor": 0,
  "metadata": {
    "colab": {
      "provenance": []
    },
    "kernelspec": {
      "name": "python3",
      "display_name": "Python 3"
    },
    "language_info": {
      "name": "python"
    }
  },
  "cells": [
    {
      "cell_type": "code",
      "execution_count": null,
      "metadata": {
        "id": "OK3V7DO00gNO"
      },
      "outputs": [],
      "source": [
        "#Therotical questions"
      ]
    },
    {
      "cell_type": "markdown",
      "source": [
        "Data Types and Structures\n"
      ],
      "metadata": {
        "id": "MXcrE3GW1Y46"
      }
    },
    {
      "cell_type": "markdown",
      "source": [
        "question1.What are data structures, and why are they important?\n",
        "\n",
        "Data structures are organized formats for storing and managing data to enable efficient access and modification. Examples include lists, arrays, dictionaries, and trees. They are important because they optimize algorithms, improve performance, and solve specific computational problems effectively."
      ],
      "metadata": {
        "id": "GFr22zBA130v"
      }
    },
    {
      "cell_type": "markdown",
      "source": [
        "question2.Explain the difference between mutable and immutable data types with examples.\n",
        "\n",
        "Mutable data types can be modified after creation. For example, lists in Python:\n",
        "python\n",
        "\n",
        "\n",
        "Immutable data types cannot be altered after creation. For example, strings:\n",
        "python\n"
      ],
      "metadata": {
        "id": "5eqiA_fx2Gp3"
      }
    },
    {
      "cell_type": "markdown",
      "source": [
        "question3What are the main differences between lists and tuples in Python?\n",
        "\n",
        "Mutability: Lists are mutable, while tuples are immutable.\n",
        "Performance: Tuples are faster than lists due to immutability.\n",
        "Syntax: Lists use square brackets ([]), while tuples use parentheses (()).\n"
      ],
      "metadata": {
        "id": "jb5TOGpf2h9E"
      }
    },
    {
      "cell_type": "markdown",
      "source": [
        "question4 Describe how dictionaries store data.\n",
        "\n",
        "Dictionaries store data in a key-value pair format using a hash table under the hood. Each key is hashed to a memory location, allowing fast data retrieval.\n",
        "\n"
      ],
      "metadata": {
        "id": "zvwhAS0Z2dwm"
      }
    },
    {
      "cell_type": "markdown",
      "source": [
        "question5 Why might you use a set instead of a list in Python?\n",
        "Sets are useful when\n",
        "\n",
        "Unique values are required, as sets automatically eliminate duplicates.\n",
        "Faster membership tests (in operator) are needed due to their hashing mechanism.\n"
      ],
      "metadata": {
        "id": "NuMXmsbT2yI0"
      }
    },
    {
      "cell_type": "markdown",
      "source": [
        "question6 What is a string in Python, and how is it different from a list?\n",
        "\n",
        "A string is a sequence of characters, while a list can store elements of any data type. Strings are immutable, but lists are mutable."
      ],
      "metadata": {
        "id": "JmilwaqD3JGm"
      }
    },
    {
      "cell_type": "markdown",
      "source": [
        "question7 How do tuples ensure data integrity in Python?\n",
        "\n",
        "Tuples are immutable, preventing accidental changes to their elements, making them ideal for data that should remain constant.\n",
        "\n",
        "question8 What is a hash table, and how does it relate to dictionaries in Python?\n",
        "\n",
        "A hash table is a data structure that maps keys to values using a hash function. Dictionaries in Python use hash tables to enable fast lookup, insertion, and deletion operations.\n",
        "\n",
        "question9 Can lists contain different data types in Python?\n",
        "\n",
        "Yes, lists in Python can store elements of mixed data types:\n",
        "my_list = [1, \"hello\", 3.14, [1, 2, 3]]"
      ],
      "metadata": {
        "id": "WtECybIW3PjK"
      }
    },
    {
      "cell_type": "markdown",
      "source": [
        "question10 Explain why strings are immutable in Python.\n",
        "Strings are immutable to\n",
        "\n",
        "Ensure thread safety.\n",
        "Allow efficient memory usage by reusing existing string objects (e.g., interning).\n",
        "Simplify hash-based operations (e.g., storing strings in dictionaries or sets).\n",
        "\n",
        "question11 What advantages do dictionaries offer over lists for certain tasks?\n",
        "Dictionaries provide\n",
        "\n",
        "Fast lookups using keys.\n",
        "Key-value associations, allowing structured data storage.\n",
        "Direct access to elements without searching through the entire structure."
      ],
      "metadata": {
        "id": "UtYSyPyW3SdK"
      }
    },
    {
      "cell_type": "markdown",
      "source": [
        "question12 Describe a scenario where using a tuple would be preferable over a list?\n",
        "\n",
        "Use a tuple when data should remain constant, such as geographic coordinates\n",
        "coordinates = (40.7128, -74.0060)  # Latitude and longitude\n",
        "\n",
        "question13How do sets handle duplicate values in Python?\n",
        "Sets automatically remove duplicate values. For example\n",
        "my_set = {1, 2, 2, 3}\n",
        "print(my_set)  # Output: {1, 2, 3}\n",
        "\n",
        "question14 How does the in keyword work differently for lists and dictionaries?\n",
        "\n",
        "For lists, in checks for the presence of a value:\n",
        "3 in [1, 2, 3]  # True\n",
        "\n",
        "for dictionaries, in checks for the presence of a key\n",
        "\"key\" in {\"key\": \"value\"}  # True\n",
        "\n",
        "question15 Can you modify the elements of a tuple? Explain why or why not?\n",
        "\n",
        "No, tuples are immutable, meaning their elements cannot be modified. This ensures consistency and prevents unintended changes.\n",
        "\n",
        "question16 What is a nested dictionary, and give an example of its use case?\n",
        "\n",
        "A nested dictionary is a dictionary containing another dictionary as a value. Example:\n",
        "students = {\n",
        "    \"Alice\": {\"age\": 25, \"grade\": \"A\"},\n",
        "    \"Bob\": {\"age\": 22, \"grade\": \"B\"}\n",
        "}\n",
        "\n",
        "question17 Describe the time complexity of accessing elements in a dictionary?\n",
        "\n",
        "Accessing elements in a dictionary has an average time complexity of O(1) due to hashing.\n",
        "\n",
        "question18 In what situations are lists preferred over dictionaries?\n",
        "Lists are preferred when:\n",
        "\n",
        "Order matters (e.g., maintaining sequence).\n",
        "The dataset doesn't need key-value pairs.\n",
        "Simplicity and memory efficiency are priorities.\n",
        "\n",
        "question19 Why are dictionaries considered unordered, and how does that affect data retrieval?\n",
        "\n",
        "Dictionaries are unordered because their elements are stored based on hash values, not insertion order (in versions before Python 3.7). This affects retrieval in that you cannot rely on the order of elements.\n",
        "\n",
        "question20 Explain the difference between a list and a dictionary in terms of data retrieval.\n",
        "\n",
        "List: Retrieval requires knowing the index or searching through the list (O(n) for search).\n",
        "Dictionary: Retrieval uses a key, offering constant time complexity (O(1)).\n"
      ],
      "metadata": {
        "id": "zGL0GNS44GdZ"
      }
    },
    {
      "cell_type": "code",
      "source": [
        "#Practical Questions"
      ],
      "metadata": {
        "id": "gEsVGgJ_5iyU"
      },
      "execution_count": null,
      "outputs": []
    },
    {
      "cell_type": "code",
      "source": [
        "#question1 Write a code to create a string with your name and print it?\n",
        "\n",
        "Name=\"Rustam Arora\"\n",
        "print(Name)"
      ],
      "metadata": {
        "colab": {
          "base_uri": "https://localhost:8080/"
        },
        "id": "FWF2tYGI5owq",
        "outputId": "5effb991-c654-4ff5-c739-093b4ae3c02e"
      },
      "execution_count": 4,
      "outputs": [
        {
          "output_type": "stream",
          "name": "stdout",
          "text": [
            "Rustam Arora\n"
          ]
        }
      ]
    },
    {
      "cell_type": "code",
      "source": [
        "#qestion2 Write a code to find the length of the string  \"Hello World\"?\n",
        "\n",
        "len(\"Hello World\")"
      ],
      "metadata": {
        "colab": {
          "base_uri": "https://localhost:8080/"
        },
        "id": "UN1Gd0PK6fcL",
        "outputId": "83f036b0-1821-499e-fa4b-47e4f7fe0d24"
      },
      "execution_count": 5,
      "outputs": [
        {
          "output_type": "execute_result",
          "data": {
            "text/plain": [
              "11"
            ]
          },
          "metadata": {},
          "execution_count": 5
        }
      ]
    },
    {
      "cell_type": "code",
      "source": [
        "#question3 Write a code to slice the first 3 characters from the string \"Python Programming\"?\n",
        "\n",
        "my_string = \"Python Programming\"\n",
        "\n",
        "# Slice the first 3 characters\n",
        "first_three = my_string[:3]\n",
        "\n",
        "# Print the result\n",
        "print(first_three)"
      ],
      "metadata": {
        "colab": {
          "base_uri": "https://localhost:8080/"
        },
        "id": "ncrsAlHQ6wOE",
        "outputId": "6cdc8ba5-263d-4486-af6a-4a32818c5548"
      },
      "execution_count": 6,
      "outputs": [
        {
          "output_type": "stream",
          "name": "stdout",
          "text": [
            "Pyt\n"
          ]
        }
      ]
    },
    {
      "cell_type": "code",
      "source": [
        "#question4 Write a code to convert the string \"hello\" to uppercase?\n",
        "\n",
        "text = \"hello\"\n",
        "text.upper()"
      ],
      "metadata": {
        "colab": {
          "base_uri": "https://localhost:8080/",
          "height": 36
        },
        "id": "3RELkPuF7adu",
        "outputId": "2a8222c1-e5ea-4302-cb83-7107cb97a4f5"
      },
      "execution_count": 7,
      "outputs": [
        {
          "output_type": "execute_result",
          "data": {
            "text/plain": [
              "'HELLO'"
            ],
            "application/vnd.google.colaboratory.intrinsic+json": {
              "type": "string"
            }
          },
          "metadata": {},
          "execution_count": 7
        }
      ]
    },
    {
      "cell_type": "code",
      "source": [
        "#question5 Write a code to replace the word \"apple\" with \"orange\" in the string \"I like apple?\n",
        "text = \"I like apple?\"\n",
        "text.replace(\"apple\", \"orange\")"
      ],
      "metadata": {
        "colab": {
          "base_uri": "https://localhost:8080/",
          "height": 36
        },
        "id": "zdHrduUf7tvN",
        "outputId": "e01cf52a-8a82-4b90-c40a-85b0ff0f1558"
      },
      "execution_count": 8,
      "outputs": [
        {
          "output_type": "execute_result",
          "data": {
            "text/plain": [
              "'I like orange?'"
            ],
            "application/vnd.google.colaboratory.intrinsic+json": {
              "type": "string"
            }
          },
          "metadata": {},
          "execution_count": 8
        }
      ]
    },
    {
      "cell_type": "code",
      "source": [
        "#question6 Write a code to create a list with numbers 1 to 5 and print it?\n",
        "\n",
        "my_list = [1,2,3,4,5]\n",
        "print(my_list)\n"
      ],
      "metadata": {
        "colab": {
          "base_uri": "https://localhost:8080/"
        },
        "id": "OjEqTHOA8FJJ",
        "outputId": "a392f6a9-aa48-496e-e443-da9ce9ff5bfa"
      },
      "execution_count": 10,
      "outputs": [
        {
          "output_type": "stream",
          "name": "stdout",
          "text": [
            "[1, 2, 3, 4, 5]\n"
          ]
        }
      ]
    },
    {
      "cell_type": "code",
      "source": [
        "#question7 Write a code to append the number 10 to the list [1, 2, 3, 4]?\n",
        "\n",
        "my_list = [1, 2, 3, 4]\n",
        "my_list.append(10)\n",
        "print(my_list)"
      ],
      "metadata": {
        "colab": {
          "base_uri": "https://localhost:8080/"
        },
        "id": "LIABwlzo8g1C",
        "outputId": "fb625203-76c5-4e3a-e539-c805f8d34706"
      },
      "execution_count": 11,
      "outputs": [
        {
          "output_type": "stream",
          "name": "stdout",
          "text": [
            "[1, 2, 3, 4, 10]\n"
          ]
        }
      ]
    },
    {
      "cell_type": "code",
      "source": [
        "#question8 Write a code to remove the number 3 from the list [1, 2, 3, 4, 5]?\n",
        "\n",
        "my_list = [1, 2, 3, 4, 5]\n",
        "my_list.remove(3)\n",
        "print(my_list)"
      ],
      "metadata": {
        "colab": {
          "base_uri": "https://localhost:8080/"
        },
        "id": "perpnfN08q2X",
        "outputId": "5807e911-6013-47bb-8819-4f00a4b86b11"
      },
      "execution_count": 12,
      "outputs": [
        {
          "output_type": "stream",
          "name": "stdout",
          "text": [
            "[1, 2, 4, 5]\n"
          ]
        }
      ]
    },
    {
      "cell_type": "code",
      "source": [
        "#question9 Write a code to access the second element in the list ['a', 'b', 'c', 'd']?\n",
        "\n",
        "my_list = ['a', 'b', 'c', 'd']\n",
        "second_element = my_list[1]\n",
        "print(second_element)"
      ],
      "metadata": {
        "colab": {
          "base_uri": "https://localhost:8080/"
        },
        "id": "wrGCiEOq8xic",
        "outputId": "283fe461-29af-4ce8-88e1-eb95afbbeaf9"
      },
      "execution_count": 13,
      "outputs": [
        {
          "output_type": "stream",
          "name": "stdout",
          "text": [
            "b\n"
          ]
        }
      ]
    },
    {
      "cell_type": "code",
      "source": [
        "#question10  Write a code to reverse the list [10, 20, 30, 40, 50]?\n",
        "\n",
        "my_list = [10, 20, 30, 40, 50]\n",
        "my_list.reverse()\n",
        "print(my_list)"
      ],
      "metadata": {
        "colab": {
          "base_uri": "https://localhost:8080/"
        },
        "id": "j2JfDgJU89Yb",
        "outputId": "8ddc43d4-c143-4a06-c773-2913d971110c"
      },
      "execution_count": 14,
      "outputs": [
        {
          "output_type": "stream",
          "name": "stdout",
          "text": [
            "[50, 40, 30, 20, 10]\n"
          ]
        }
      ]
    },
    {
      "cell_type": "code",
      "source": [
        "#question11 Write a code to create a tuple with the elements 10, 20, 30 and print it.\n",
        "\n",
        "my_tuple = (10, 20, 30)\n",
        "print(my_tuple)"
      ],
      "metadata": {
        "colab": {
          "base_uri": "https://localhost:8080/"
        },
        "id": "IUOkPbmq9Wsj",
        "outputId": "fc9c3329-533c-4b5a-b2b3-996d4e067ef2"
      },
      "execution_count": 15,
      "outputs": [
        {
          "output_type": "stream",
          "name": "stdout",
          "text": [
            "(10, 20, 30)\n"
          ]
        }
      ]
    },
    {
      "cell_type": "code",
      "source": [
        "#question12 Write a code to access the first element of the tuple ('apple', 'banana', 'cherry').\n",
        "\n",
        "my_tuple = ('apple', 'banana', 'cherry')\n",
        "first_element = my_tuple[0]\n",
        "print(first_element)"
      ],
      "metadata": {
        "colab": {
          "base_uri": "https://localhost:8080/"
        },
        "id": "TRXQJ1C59oA7",
        "outputId": "ab17cded-48b9-4290-94be-640de46662f9"
      },
      "execution_count": 16,
      "outputs": [
        {
          "output_type": "stream",
          "name": "stdout",
          "text": [
            "apple\n"
          ]
        }
      ]
    },
    {
      "cell_type": "code",
      "source": [
        "#question13  Write a code to count how many times the number 2 appears in the tuple (1, 2, 3, 2, 4, 2).\n",
        "\n",
        "my_tuple = (1,2,3,2,4,2)\n",
        "my_tuple.count(2)\n",
        "\n",
        "\n"
      ],
      "metadata": {
        "colab": {
          "base_uri": "https://localhost:8080/"
        },
        "id": "eip5bkp2-GY8",
        "outputId": "49b05ce8-0a95-4984-96fa-0abad51bddaa"
      },
      "execution_count": 17,
      "outputs": [
        {
          "output_type": "execute_result",
          "data": {
            "text/plain": [
              "3"
            ]
          },
          "metadata": {},
          "execution_count": 17
        }
      ]
    },
    {
      "cell_type": "code",
      "source": [
        "#question14  Write a code to find the index of the element \"cat\" in the tuple ('dog', 'cat', 'rabbit')\n",
        "\n",
        "my_tuple = ('dog', 'cat', 'rabbit')\n",
        "my_tuple.index( 'cat')"
      ],
      "metadata": {
        "colab": {
          "base_uri": "https://localhost:8080/"
        },
        "id": "lIpH4T6v-dUD",
        "outputId": "4c0bbede-76e7-4052-fcf8-2971225d5e4f"
      },
      "execution_count": 19,
      "outputs": [
        {
          "output_type": "execute_result",
          "data": {
            "text/plain": [
              "1"
            ]
          },
          "metadata": {},
          "execution_count": 19
        }
      ]
    },
    {
      "cell_type": "code",
      "source": [
        "#question15  Write a code to check if the element \"banana\" is in the tuple ('apple', 'orange', 'banana').\n",
        "\n",
        "my_tuple = ('apple', 'orange', 'banana')\n",
        "if 'banana' in my_tuple:\n",
        "    print(\"The element 'banana' is in the tuple.\")\n",
        "else:\n",
        "    print(\"The element 'banana' is not in the tuple.\")"
      ],
      "metadata": {
        "colab": {
          "base_uri": "https://localhost:8080/"
        },
        "id": "A3aeM3Gb-3rh",
        "outputId": "4d8272a3-b24f-4f2d-fe5a-af477bfbfb46"
      },
      "execution_count": 20,
      "outputs": [
        {
          "output_type": "stream",
          "name": "stdout",
          "text": [
            "The element 'banana' is in the tuple.\n"
          ]
        }
      ]
    },
    {
      "cell_type": "code",
      "source": [
        "#question16  Write a code to create a set with the elements 1, 2, 3, 4, 5 and print it.\n",
        "\n",
        "my_set = {1,2,3,4,5}\n",
        "print(my_set)"
      ],
      "metadata": {
        "colab": {
          "base_uri": "https://localhost:8080/"
        },
        "id": "FHuDymClA0fb",
        "outputId": "ed349634-b99c-4203-c22c-bc47e931b3f0"
      },
      "execution_count": 21,
      "outputs": [
        {
          "output_type": "stream",
          "name": "stdout",
          "text": [
            "{1, 2, 3, 4, 5}\n"
          ]
        }
      ]
    },
    {
      "cell_type": "code",
      "source": [
        "#question17  Write a code to add the element 6 to the set {1, 2, 3, 4}.\n",
        "\n",
        "my_set = {1,2,3,4}\n",
        "my_set.add(6)\n",
        "print(my_set)"
      ],
      "metadata": {
        "colab": {
          "base_uri": "https://localhost:8080/"
        },
        "id": "xVpYwGMrBEfc",
        "outputId": "63fc0ccd-c012-43fd-e921-1f1519b21cb4"
      },
      "execution_count": 23,
      "outputs": [
        {
          "output_type": "stream",
          "name": "stdout",
          "text": [
            "{1, 2, 3, 4, 6}\n"
          ]
        }
      ]
    },
    {
      "cell_type": "code",
      "source": [
        "#question18  Write a code to create a tuple with the elements 10, 20, 30 and print it.\n",
        "\n",
        "my_tuple = (10,20,30)\n",
        "print(my_tuple)"
      ],
      "metadata": {
        "colab": {
          "base_uri": "https://localhost:8080/"
        },
        "id": "T5k-jZ50Bd5i",
        "outputId": "28a649c5-e306-44d1-e1be-94ceb7fd3d47"
      },
      "execution_count": 24,
      "outputs": [
        {
          "output_type": "stream",
          "name": "stdout",
          "text": [
            "(10, 20, 30)\n"
          ]
        }
      ]
    },
    {
      "cell_type": "code",
      "source": [
        "#question19  Write a code to access the first element of the tuple ('apple', 'banana', 'cherry').\n",
        "\n",
        "my_tuple = ('apple', 'banana', 'cherry')\n",
        "first_element = my_tuple[0]\n",
        "print(first_element)"
      ],
      "metadata": {
        "colab": {
          "base_uri": "https://localhost:8080/"
        },
        "id": "Py5ZlW6IBleE",
        "outputId": "79458216-1ae2-4532-e20a-3820294d95af"
      },
      "execution_count": 25,
      "outputs": [
        {
          "output_type": "stream",
          "name": "stdout",
          "text": [
            "apple\n"
          ]
        }
      ]
    },
    {
      "cell_type": "code",
      "source": [
        "#question20  Write a code to count how many times the number 2 appears in the tuple (1, 2, 3, 2, 4, 2)\n",
        "\n",
        "tuple=(1,2,3,2,4,2)\n",
        "count=0\n",
        "for i in tuple:\n",
        "    if i==2:\n",
        "        count+=1\n",
        "print(count)"
      ],
      "metadata": {
        "colab": {
          "base_uri": "https://localhost:8080/"
        },
        "id": "RGoQlwhVBw-A",
        "outputId": "fdf42793-f3cd-4a03-9654-e3bcf4d0908a"
      },
      "execution_count": 26,
      "outputs": [
        {
          "output_type": "stream",
          "name": "stdout",
          "text": [
            "3\n"
          ]
        }
      ]
    },
    {
      "cell_type": "code",
      "source": [
        "#question21 Write a code to find the index of the element \"cat\" in the tuple ('dog', 'cat', 'rabbit').\n",
        "\n",
        "my_tuple = ('dog', 'cat', 'rabbit')\n",
        "my_tuple.index('cat')"
      ],
      "metadata": {
        "colab": {
          "base_uri": "https://localhost:8080/"
        },
        "id": "D26fMlgTB9rn",
        "outputId": "cc62fe67-1921-4620-e2d3-d23208111f09"
      },
      "execution_count": 27,
      "outputs": [
        {
          "output_type": "execute_result",
          "data": {
            "text/plain": [
              "1"
            ]
          },
          "metadata": {},
          "execution_count": 27
        }
      ]
    },
    {
      "cell_type": "code",
      "source": [
        "#question22 Write a code to check if the element \"banana\" is in the tuple ('apple', 'orange', 'banana').\n",
        "\n",
        "my_tuple = ('apple', 'orange', 'banana')\n",
        "if 'banana' in my_tuple:\n",
        "    print(\"The element 'banana' is in the tuple.\")"
      ],
      "metadata": {
        "colab": {
          "base_uri": "https://localhost:8080/"
        },
        "id": "Q_FwW3c8CQP-",
        "outputId": "b4704190-3b67-4042-8e0c-2dcb957db374"
      },
      "execution_count": 28,
      "outputs": [
        {
          "output_type": "stream",
          "name": "stdout",
          "text": [
            "The element 'banana' is in the tuple.\n"
          ]
        }
      ]
    },
    {
      "cell_type": "code",
      "source": [
        "#question 23 Write a code to create a set with the elements 1, 2, 3, 4, 5 and print it\n",
        "\n",
        "my_set = {1,2,3,4,5}\n",
        "print(my_set)"
      ],
      "metadata": {
        "colab": {
          "base_uri": "https://localhost:8080/"
        },
        "id": "fWS1uaLxCZSk",
        "outputId": "17132855-a4a0-405e-f0df-8001d946f0e0"
      },
      "execution_count": 29,
      "outputs": [
        {
          "output_type": "stream",
          "name": "stdout",
          "text": [
            "{1, 2, 3, 4, 5}\n"
          ]
        }
      ]
    },
    {
      "cell_type": "code",
      "source": [
        "#question24 Write a code to add the element 6 to the set {1, 2, 3, 4}.\n",
        "\n",
        "my_set = {1,2,3,4}\n",
        "my_set.add(6)\n",
        "print(my_set)\n",
        "\n"
      ],
      "metadata": {
        "colab": {
          "base_uri": "https://localhost:8080/"
        },
        "id": "h8B3Ln1bChq_",
        "outputId": "a3463ca9-cb48-4852-d33e-8953272c885b"
      },
      "execution_count": 30,
      "outputs": [
        {
          "output_type": "stream",
          "name": "stdout",
          "text": [
            "{1, 2, 3, 4, 6}\n"
          ]
        }
      ]
    }
  ]
}